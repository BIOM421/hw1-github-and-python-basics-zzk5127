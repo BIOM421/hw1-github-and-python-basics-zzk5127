{
 "cells": [
  {
   "cell_type": "markdown",
   "id": "bbe3f931-7cb6-4d10-9e0b-0228c145a880",
   "metadata": {},
   "source": [
    "# Notebook for Homework 1 "
   ]
  },
  {
   "cell_type": "code",
   "execution_count": 14,
   "id": "68311919-5c07-4475-a3d3-ba70c850e06e",
   "metadata": {
    "tags": []
   },
   "outputs": [],
   "source": [
    "# Preliminary Codes -- DO NOT CHANGE ANYTHING IN THIS SECTION\n",
    "import random, pickle\n",
    "import numpy as np\n",
    "xData = [100*random.random() for i in range(20)]\n",
    "number = 5+random.randint(8,20)\n",
    "fruit = 'apples'\n",
    "day = 'Saturday'\n",
    "string_4 = 'An alacritous abalone accelerates along an alarming aquatic ascent.'\n",
    "string_5 = 'A                       large space was here.'\n",
    "string_6 = 'ATCGTGCATGCTGAGTGGCGAGCGGCGGCCGTACGCTGTTACTTAAAACGTAGCTGTAAAAAAC\\\n",
    "            GCTGCTGATGCTGTGCATGTGACTAGCTGCATGTGTGACTGACTGCTGACGTACTGTACGTACG\\\n",
    "            ATGGTTCGTGCGATGCGCTTGACGTGTCGTAGTGCATGCTGCTAGCTGATCGATGTGTCGAGTC'\n",
    "nDigits = 6\n",
    "nPower = 3\n",
    "List10 = ['apples','bananas','pears','pears','blueberries','apples','strawberries']\n",
    "Student_IDs = [1,2,3,4,5]\n",
    "Student_names = ['Jim','John','Jenna','Jamal','Jaden']\n",
    "List12 = [1,2,3,4,5,6,7,8]\n",
    "\n",
    "q1 = 'xxx'\n",
    "q2 = 'XXX'\n",
    "q3 = 'XXX'\n",
    "q4 = 123\n",
    "q5 = 'XXX'\n",
    "q6 = 123\n",
    "q7 = 'XXX'\n",
    "q8 = 1.23\n",
    "q8 = 'xxx'\n",
    "q9 = 'xxx'\n",
    "q10 = List10\n",
    "q11 = 'xxx'\n",
    "q12 = [1,2,3,4,5,6,7,8]\n",
    "\n",
    "fnDat = 'Hwk1Data.pkl'\n",
    "dataDict = {'xData':xData,'number':number,'fruit':fruit,'day':day,'string_4':string_4,\n",
    "    'string_5':string_5,'string_6':string_6,'nDigits':nDigits,'nPower':nPower,\n",
    "    'Student_IDs':Student_IDs,'Student_names':Student_names,'List10':List10,'List12':List12}\n",
    "with open(fnDat, 'wb') as file:\n",
    "    pickle.dump(dataDict, file)\n",
    "\n",
    "def saveResults():\n",
    "    fn = 'Hwk1Answers.pkl'\n",
    "    answerDict = {'q1':q1,'q2':q2,'q3':q3,'q4':q4,'q5':q5,'q6':q6,'q7':q7,'q8':q8,\n",
    "                 'q9':q9,'q10':q10,'q11':q11,'q12':q12}\n",
    "    with open(fn, 'wb') as file:\n",
    "        pickle.dump(answerDict, file)\n",
    "\n",
    "    #Read and print \n",
    "    with open(fn, 'rb') as file:\n",
    "        loaded_dict = pickle.load(file)\n",
    "    \n",
    "    print(\"Your answers so far are:\")\n",
    "    print(loaded_dict)"
   ]
  },
  {
   "cell_type": "markdown",
   "id": "ed37dd2e-0076-4b05-b594-4e28cda958bc",
   "metadata": {},
   "source": [
    "## Problem Set 1 - Basic Arithmetic and String Manipulation"
   ]
  },
  {
   "cell_type": "code",
   "execution_count": 15,
   "id": "eb36cae3-6344-428b-9d97-ebe35b743109",
   "metadata": {
    "tags": []
   },
   "outputs": [
    {
     "name": "stdout",
     "output_type": "stream",
     "text": [
      "Your answers so far are:\n",
      "{'q1': 'Hello my name is Name', 'q2': 'XXX', 'q3': 'XXX', 'q4': 123, 'q5': 'XXX', 'q6': 123, 'q7': 'XXX', 'q8': 'xxx', 'q9': 'xxx', 'q10': ['apples', 'bananas', 'pears', 'pears', 'blueberries', 'apples', 'strawberries'], 'q11': 'xxx', 'q12': [1, 2, 3, 4, 5, 6, 7, 8]}\n"
     ]
    }
   ],
   "source": [
    "# Q1 - Concatenate the following strings with a space inbetween them (do not change the name).\n",
    "string_1 = 'Hello my name is'\n",
    "name = 'Name'\n",
    "newString = string_1 + ' ' + name\n",
    "q1 = newString\n",
    "\n",
    "saveResults()"
   ]
  },
  {
   "cell_type": "code",
   "execution_count": 16,
   "id": "8f5fa2d5-598a-4244-a9ef-b0444bc67dc8",
   "metadata": {},
   "outputs": [
    {
     "name": "stdout",
     "output_type": "stream",
     "text": [
      "Your answers so far are:\n",
      "{'q1': 'Hello my name is Name', 'q2': 'I WOULD LIKE TO BE UPPERCASE', 'q3': 'XXX', 'q4': 123, 'q5': 'XXX', 'q6': 123, 'q7': 'XXX', 'q8': 'xxx', 'q9': 'xxx', 'q10': ['apples', 'bananas', 'pears', 'pears', 'blueberries', 'apples', 'strawberries'], 'q11': 'xxx', 'q12': [1, 2, 3, 4, 5, 6, 7, 8]}\n"
     ]
    }
   ],
   "source": [
    "# Q2 = Convert the following string to uppercase\n",
    "string_2 = 'i would like to be uppercase'\n",
    "upcaseString = string_2.upper()\n",
    "q2 = upcaseString\n",
    "\n",
    "saveResults()"
   ]
  },
  {
   "cell_type": "code",
   "execution_count": 17,
   "id": "d2f6938c-1036-4622-94c4-d03ed23ae5dd",
   "metadata": {
    "tags": []
   },
   "outputs": [
    {
     "name": "stdout",
     "output_type": "stream",
     "text": [
      "18\n",
      "apples\n",
      "Saturday\n",
      "Your answers so far are:\n",
      "{'q1': 'Hello my name is Name', 'q2': 'I WOULD LIKE TO BE UPPERCASE', 'q3': 'I bought 18 apples on Saturday.', 'q4': 123, 'q5': 'XXX', 'q6': 123, 'q7': 'XXX', 'q8': 'xxx', 'q9': 'xxx', 'q10': ['apples', 'bananas', 'pears', 'pears', 'blueberries', 'apples', 'strawberries'], 'q11': 'xxx', 'q12': [1, 2, 3, 4, 5, 6, 7, 8]}\n"
     ]
    }
   ],
   "source": [
    "# Q3 - use string formatting to construct the following string: \n",
    "#. \"I bought [number] [fruit] on [day].\" where:\n",
    "#     [number] is replaced with the number value of the variable \"number\",\n",
    "#     [fruit] is replaced with the string value of the variable \"fruit\",\n",
    "#     [day] is replaced with the string value of the variable \"day\",\n",
    "print(number)\n",
    "print(fruit)\n",
    "print(day)\n",
    "string_3 = \"I bought {} {} on {}.\".format(number, fruit, day)\n",
    "q3 = string_3\n",
    "\n",
    "saveResults()"
   ]
  },
  {
   "cell_type": "code",
   "execution_count": 18,
   "id": "adc7baac-3d62-400e-8e5b-a66eb12e117e",
   "metadata": {
    "tags": []
   },
   "outputs": [
    {
     "name": "stdout",
     "output_type": "stream",
     "text": [
      "An alacritous abalone accelerates along an alarming aquatic ascent.\n",
      "Your answers so far are:\n",
      "{'q1': 'Hello my name is Name', 'q2': 'I WOULD LIKE TO BE UPPERCASE', 'q3': 'I bought 18 apples on Saturday.', 'q4': 13, 'q5': 'XXX', 'q6': 123, 'q7': 'XXX', 'q8': 'xxx', 'q9': 'xxx', 'q10': ['apples', 'bananas', 'pears', 'pears', 'blueberries', 'apples', 'strawberries'], 'q11': 'xxx', 'q12': [1, 2, 3, 4, 5, 6, 7, 8]}\n"
     ]
    }
   ],
   "source": [
    "# Q4 - count the number of a's in the string \"string_4\"\n",
    "print(string_4)\n",
    "count = string_4.count('a')\n",
    "q4 = count\n",
    "\n",
    "saveResults()"
   ]
  },
  {
   "cell_type": "code",
   "execution_count": 19,
   "id": "87dfc22b-0d94-4cc6-ab7c-cd484c67c919",
   "metadata": {
    "tags": []
   },
   "outputs": [
    {
     "name": "stdout",
     "output_type": "stream",
     "text": [
      "A                       large space was here.\n",
      "Your answers so far are:\n",
      "{'q1': 'Hello my name is Name', 'q2': 'I WOULD LIKE TO BE UPPERCASE', 'q3': 'I bought 18 apples on Saturday.', 'q4': 13, 'q5': 'Alargespacewashere.', 'q6': 123, 'q7': 'XXX', 'q8': 'xxx', 'q9': 'xxx', 'q10': ['apples', 'bananas', 'pears', 'pears', 'blueberries', 'apples', 'strawberries'], 'q11': 'xxx', 'q12': [1, 2, 3, 4, 5, 6, 7, 8]}\n"
     ]
    }
   ],
   "source": [
    "# Q5 - Strip \"string_5\" to remove all spaces and return the result as 'q5'\n",
    "print(string_5)\n",
    "\n",
    "q5 = string_5.replace(' ','')\n",
    "\n",
    "saveResults()"
   ]
  },
  {
   "cell_type": "code",
   "execution_count": 20,
   "id": "57fe3ee3-f84f-4839-bed2-5ca82691a87c",
   "metadata": {
    "tags": []
   },
   "outputs": [
    {
     "name": "stdout",
     "output_type": "stream",
     "text": [
      "Your answers so far are:\n",
      "{'q1': 'Hello my name is Name', 'q2': 'I WOULD LIKE TO BE UPPERCASE', 'q3': 'I bought 18 apples on Saturday.', 'q4': 13, 'q5': 'Alargespacewashere.', 'q6': 216, 'q7': 'XXX', 'q8': 'xxx', 'q9': 'xxx', 'q10': ['apples', 'bananas', 'pears', 'pears', 'blueberries', 'apples', 'strawberries'], 'q11': 'xxx', 'q12': [1, 2, 3, 4, 5, 6, 7, 8]}\n"
     ]
    }
   ],
   "source": [
    "# Q6 - How long is the string \"string_6\"?\n",
    "q6 = len(string_6)\n",
    "\n",
    "saveResults()"
   ]
  },
  {
   "cell_type": "code",
   "execution_count": 21,
   "id": "5df84638-359e-4ce2-8e90-925c40614253",
   "metadata": {
    "tags": []
   },
   "outputs": [
    {
     "name": "stdout",
     "output_type": "stream",
     "text": [
      "3.141592653589793\n",
      "6\n",
      "3\n",
      "Your answers so far are:\n",
      "{'q1': 'Hello my name is Name', 'q2': 'I WOULD LIKE TO BE UPPERCASE', 'q3': 'I bought 18 apples on Saturday.', 'q4': 13, 'q5': 'Alargespacewashere.', 'q6': 216, 'q7': '3.101e+01', 'q8': 'xxx', 'q9': 'xxx', 'q10': ['apples', 'bananas', 'pears', 'pears', 'blueberries', 'apples', 'strawberries'], 'q11': 'xxx', 'q12': [1, 2, 3, 4, 5, 6, 7, 8]}\n"
     ]
    }
   ],
   "source": [
    "# Q7 - Write a STRING that contains the value of pi^[nPower]. \n",
    "# Use exponent form to the 3rd decimal point (e.g., 2.500e+00).\n",
    "pi = np.pi\n",
    "print(pi)\n",
    "print(nDigits)\n",
    "print(nPower)\n",
    "s7 = \"{:.3e}\".format(pi**nPower)\n",
    "q7 = s7\n",
    "\n",
    "saveResults()"
   ]
  },
  {
   "cell_type": "markdown",
   "id": "d6565fd5-b535-4571-84e9-2ea7a0c0c6ed",
   "metadata": {
    "tags": []
   },
   "source": [
    "## Problem Set 2 - Iterables, Slicing, and Sets"
   ]
  },
  {
   "cell_type": "code",
   "execution_count": 23,
   "id": "478785c4-c27a-4e62-ab36-8695589b3291",
   "metadata": {
    "tags": []
   },
   "outputs": [
    {
     "name": "stdout",
     "output_type": "stream",
     "text": [
      "[84.89966175981654, 2.085737634275975, 86.41450498739316, 55.386367340312816, 88.34061535980649, 3.8554805702844197, 47.357950209933996, 21.396057890522624, 93.94593735583571, 7.218933815728102, 80.96848257252314, 88.46782525991226, 85.60649413899117, 16.937806645687825, 70.54436093755623, 28.524472333785678, 70.92163235037468, 23.808088822130934, 83.74922430511205, 82.11217295325677]\n",
      "Your answers so far are:\n",
      "{'q1': 'Hello my name is Name', 'q2': 'I WOULD LIKE TO BE UPPERCASE', 'q3': 'I bought 18 apples on Saturday.', 'q4': 13, 'q5': 'Alargespacewashere.', 'q6': 216, 'q7': '3.101e+01', 'q8': 56.12709036216203, 'q9': 'xxx', 'q10': ['apples', 'bananas', 'pears', 'pears', 'blueberries', 'apples', 'strawberries'], 'q11': 'xxx', 'q12': [1, 2, 3, 4, 5, 6, 7, 8]}\n"
     ]
    }
   ],
   "source": [
    "# Q8 - Consider the numbers in the list \"xData\", and compute their average.\n",
    "print(xData)\n",
    "\n",
    "q8= np.mean(xData)# Change this to produce the average of the numbers in 'xData'\n",
    "\n",
    "saveResults()"
   ]
  },
  {
   "cell_type": "code",
   "execution_count": 24,
   "id": "52ccb85f-cbc6-46ab-ae0c-657d92d17cc1",
   "metadata": {
    "tags": []
   },
   "outputs": [
    {
     "name": "stdout",
     "output_type": "stream",
     "text": [
      "[84.89966175981654, 2.085737634275975, 86.41450498739316, 55.386367340312816, 88.34061535980649, 3.8554805702844197, 47.357950209933996, 21.396057890522624, 93.94593735583571, 7.218933815728102, 80.96848257252314, 88.46782525991226, 85.60649413899117, 16.937806645687825, 70.54436093755623, 28.524472333785678, 70.92163235037468, 23.808088822130934, 83.74922430511205, 82.11217295325677]\n",
      "Your answers so far are:\n",
      "{'q1': 'Hello my name is Name', 'q2': 'I WOULD LIKE TO BE UPPERCASE', 'q3': 'I bought 18 apples on Saturday.', 'q4': 13, 'q5': 'Alargespacewashere.', 'q6': 216, 'q7': '3.101e+01', 'q8': 56.12709036216203, 'q9': 82.11217295325677, 'q10': ['apples', 'bananas', 'pears', 'pears', 'blueberries', 'apples', 'strawberries'], 'q11': 'xxx', 'q12': [1, 2, 3, 4, 5, 6, 7, 8]}\n"
     ]
    }
   ],
   "source": [
    "# Q9 - What's the last entry in the list \"xData\".  Get this by slicing the list.\n",
    "print(xData)\n",
    "q9 = xData[-1]\n",
    "\n",
    "saveResults()"
   ]
  },
  {
   "cell_type": "code",
   "execution_count": 25,
   "id": "1bac04df-6fb1-4ee9-ac15-9a21d5dbf087",
   "metadata": {},
   "outputs": [
    {
     "name": "stdout",
     "output_type": "stream",
     "text": [
      "['apples', 'bananas', 'pears', 'pears', 'blueberries', 'apples', 'strawberries']\n",
      "Your answers so far are:\n",
      "{'q1': 'Hello my name is Name', 'q2': 'I WOULD LIKE TO BE UPPERCASE', 'q3': 'I bought 18 apples on Saturday.', 'q4': 13, 'q5': 'Alargespacewashere.', 'q6': 216, 'q7': '3.101e+01', 'q8': 56.12709036216203, 'q9': 82.11217295325677, 'q10': ['apples', 'bananas', 'pears', 'strawberries', 'blueberries'], 'q11': 'xxx', 'q12': [1, 2, 3, 4, 5, 6, 7, 8]}\n"
     ]
    }
   ],
   "source": [
    "# Q10 - Convert between lists and sets to remove duplicate entries from the list \"List10\"\n",
    "print(List10)\n",
    "List10 = list(set(List10))\n",
    "q10 = List10\n",
    "\n",
    "saveResults()"
   ]
  },
  {
   "cell_type": "code",
   "execution_count": 27,
   "id": "84efaca0-7f30-4a5f-b973-054970681a64",
   "metadata": {},
   "outputs": [
    {
     "name": "stdout",
     "output_type": "stream",
     "text": [
      "[1, 2, 3, 4, 5]\n",
      "['Jim', 'John', 'Jenna', 'Jamal', 'Jaden']\n",
      "Your answers so far are:\n",
      "{'q1': 'Hello my name is Name', 'q2': 'I WOULD LIKE TO BE UPPERCASE', 'q3': 'I bought 18 apples on Saturday.', 'q4': 13, 'q5': 'Alargespacewashere.', 'q6': 216, 'q7': '3.101e+01', 'q8': 56.12709036216203, 'q9': 82.11217295325677, 'q10': ['apples', 'bananas', 'pears', 'strawberries', 'blueberries'], 'q11': {1: 'Jim', 2: 'John', 3: 'Jenna', 4: 'Jamal', 5: 'Jaden'}, 'q12': [1, 2, 3, 4, 5, 6, 7, 8]}\n"
     ]
    }
   ],
   "source": [
    "# Q11 - Combine the lists 'Student_IDs' and 'Student_names' into a dictionary keyed by the IDs. \n",
    "# i.e. Create a dictionary with pairs of { ID : student name }\n",
    "print(Student_IDs)\n",
    "print(Student_names)\n",
    "dict11 = dict(zip(Student_IDs, Student_names))\n",
    "\n",
    "q11 = dict11\n",
    "\n",
    "saveResults()"
   ]
  },
  {
   "cell_type": "code",
   "execution_count": 28,
   "id": "13f4c066-44df-4b82-a78d-4dd2ff590f03",
   "metadata": {
    "tags": []
   },
   "outputs": [
    {
     "name": "stdout",
     "output_type": "stream",
     "text": [
      "[1, 2, 3, 4, 5, 6, 7, 8]\n",
      "Your answers so far are:\n",
      "{'q1': 'Hello my name is Name', 'q2': 'I WOULD LIKE TO BE UPPERCASE', 'q3': 'I bought 18 apples on Saturday.', 'q4': 13, 'q5': 'Alargespacewashere.', 'q6': 216, 'q7': '3.101e+01', 'q8': 56.12709036216203, 'q9': 82.11217295325677, 'q10': ['apples', 'bananas', 'pears', 'strawberries', 'blueberries'], 'q11': {1: 'Jim', 2: 'John', 3: 'Jenna', 4: 'Jamal', 5: 'Jaden'}, 'q12': [1, 3, 5, 7]}\n"
     ]
    }
   ],
   "source": [
    "# Q12 - Slice to get every other entry in the list 'List12'\n",
    "print(List12)\n",
    "q12 = List12[::2]\n",
    "\n",
    "saveResults()"
   ]
  }
 ],
 "metadata": {
  "kernelspec": {
   "display_name": "Python 3",
   "language": "python",
   "name": "python3"
  },
  "language_info": {
   "codemirror_mode": {
    "name": "ipython",
    "version": 3
   },
   "file_extension": ".py",
   "mimetype": "text/x-python",
   "name": "python",
   "nbconvert_exporter": "python",
   "pygments_lexer": "ipython3",
   "version": "3.11.4"
  }
 },
 "nbformat": 4,
 "nbformat_minor": 5
}
